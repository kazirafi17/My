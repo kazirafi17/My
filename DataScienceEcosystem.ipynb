{
 "cells": [
  {
   "cell_type": "markdown",
   "id": "3955afd2",
   "metadata": {},
   "source": [
    "Data Science Tools and Ecosystem"
   ]
  },
  {
   "cell_type": "markdown",
   "id": "9d9c99df",
   "metadata": {},
   "source": [
    "In this notebook, Data Science Tools and Ecosystem are summarized."
   ]
  },
  {
   "cell_type": "markdown",
   "id": "451cbc61",
   "metadata": {},
   "source": [
    "_Objectives:_\n",
    "\n",
    "* List popular languages for Data Science.\n",
    "* Open source tools.\n",
    "* R\n",
    "* GitHub\n",
    "* Jupyter Notebook"
   ]
  },
  {
   "cell_type": "markdown",
   "id": "35862067",
   "metadata": {},
   "source": [
    "Some of the popular languages that Data Scientists use are:\n",
    "\n",
    "1.Python\n",
    "2.R\n",
    "3.SQL\n",
    "4.Julia"
   ]
  },
  {
   "cell_type": "markdown",
   "id": "b88cc86e",
   "metadata": {},
   "source": [
    "Some of the commonly used libraries used by Data Scientists include:\n",
    "1.Pandas\n",
    "2.Numpy\n",
    "3.Matplolib\n",
    "4.SciPy"
   ]
  },
  {
   "cell_type": "markdown",
   "id": "8e726955",
   "metadata": {},
   "source": [
    "|Data Science Tools.|\n",
    "------------------------------\n",
    "|RStudio|\n",
    "|Apache Spark|\n",
    "|TensorFlow|"
   ]
  },
  {
   "cell_type": "markdown",
   "id": "978c451d",
   "metadata": {},
   "source": [
    "Below are a few examples of evaluating arithmetic expressions in Python.\n",
    "\n",
    "Addition = a+b\n",
    "Subtraction = a-b\n",
    "Multiplication = a*b\n",
    "Division = a/b"
   ]
  },
  {
   "cell_type": "code",
   "execution_count": 2,
   "id": "a842c17a",
   "metadata": {},
   "outputs": [
    {
     "data": {
      "text/plain": [
       "17"
      ]
     },
     "execution_count": 2,
     "metadata": {},
     "output_type": "execute_result"
    }
   ],
   "source": [
    "#This a simple arithmetic expression to mutiply then add integers.\n",
    "\n",
    "(3*4)+5"
   ]
  },
  {
   "cell_type": "code",
   "execution_count": 4,
   "id": "7e14652d",
   "metadata": {},
   "outputs": [
    {
     "data": {
      "text/plain": [
       "3.3333333333333335"
      ]
     },
     "execution_count": 4,
     "metadata": {},
     "output_type": "execute_result"
    }
   ],
   "source": [
    "#This will convert 200 minutes to hours by diving by 60\n",
    "\n",
    "200/60"
   ]
  },
  {
   "cell_type": "markdown",
   "id": "fcc02fdb",
   "metadata": {},
   "source": [
    "## Author\n",
    "Mukit"
   ]
  },
  {
   "cell_type": "code",
   "execution_count": null,
   "id": "f98be557",
   "metadata": {},
   "outputs": [],
   "source": []
  }
 ],
 "metadata": {
  "kernelspec": {
   "display_name": "Python 3 (ipykernel)",
   "language": "python",
   "name": "python3"
  },
  "language_info": {
   "codemirror_mode": {
    "name": "ipython",
    "version": 3
   },
   "file_extension": ".py",
   "mimetype": "text/x-python",
   "name": "python",
   "nbconvert_exporter": "python",
   "pygments_lexer": "ipython3",
   "version": "3.11.4"
  }
 },
 "nbformat": 4,
 "nbformat_minor": 5
}
